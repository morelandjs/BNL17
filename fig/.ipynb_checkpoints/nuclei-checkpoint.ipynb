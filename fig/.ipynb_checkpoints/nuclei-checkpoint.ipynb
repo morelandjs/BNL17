{
 "cells": [
  {
   "cell_type": "code",
   "execution_count": 85,
   "metadata": {
    "scrolled": true
   },
   "outputs": [
    {
     "data": {
      "application/vnd.jupyter.widget-view+json": {
       "model_id": "84c558ac245e4df386e50ad437505d14"
      }
     },
     "metadata": {},
     "output_type": "display_data"
    }
   ],
   "source": [
    "import ipyvolume\n",
    "import ipyvolume.pylab as p3\n",
    "import h5py\n",
    "import numpy as np\n",
    "\n",
    "# define some colors\n",
    "blue= '#66a0ff'\n",
    "orange = '#ffb73d'\n",
    "\n",
    "# pull nuclei from hdf5 file\n",
    "def nucleus(config=0):\n",
    "    with h5py.File('Pb208_10k.hdf', 'r') as f:\n",
    "        for nuclei in f.values():\n",
    "            return nuclei[config]\n",
    "\n",
    "# times\n",
    "times = np.linspace(0, 20, 500)\n",
    "        \n",
    "# nucleus A\n",
    "x, y, z = nucleus(0).T\n",
    "x1 = np.array([x for t in times])\n",
    "y1 = np.array([y for t in times])\n",
    "z1 = np.array([z - 10 + t for t in times])\n",
    "\n",
    "# nucleus B\n",
    "x, y, z = nucleus(2).T\n",
    "x2 = np.array([x for t in times])\n",
    "y2 = np.array([y for t in times])\n",
    "z2 = np.array([z + 10 - t for t in times])\n",
    "\n",
    "# cylinder\n",
    "\n",
    "\n",
    "p3.figure()\n",
    "n1 = p3.scatter(x1, y1, z1, marker=\"sphere\", size=4, color=orange)\n",
    "n2 = p3.scatter(x2, y2, z2, marker=\"sphere\", size=4, color=blue)\n",
    "p3.xyzlim(-10,10)\n",
    "p3.animate_glyphs(n1, interval=2)\n",
    "p3.style.use([{'background-color' : 'white'}])\n",
    "p3.show()\n",
    "\n",
    "\n"
   ]
  },
  {
   "cell_type": "code",
   "execution_count": null,
   "metadata": {},
   "outputs": [],
   "source": []
  },
  {
   "cell_type": "code",
   "execution_count": null,
   "metadata": {
    "collapsed": true
   },
   "outputs": [],
   "source": []
  },
  {
   "cell_type": "code",
   "execution_count": null,
   "metadata": {
    "collapsed": true
   },
   "outputs": [],
   "source": []
  }
 ],
 "metadata": {
  "kernelspec": {
   "display_name": "Python 3",
   "language": "python",
   "name": "python3"
  },
  "language_info": {
   "codemirror_mode": {
    "name": "ipython",
    "version": 3
   },
   "file_extension": ".py",
   "mimetype": "text/x-python",
   "name": "python",
   "nbconvert_exporter": "python",
   "pygments_lexer": "ipython3",
   "version": "3.5.3"
  }
 },
 "nbformat": 4,
 "nbformat_minor": 2
}
