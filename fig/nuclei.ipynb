{
 "cells": [
  {
   "cell_type": "code",
   "execution_count": 136,
   "metadata": {
    "scrolled": true
   },
   "outputs": [
    {
     "name": "stderr",
     "output_type": "stream",
     "text": [
      "/home/jsm55/.local/lib/python3.5/site-packages/ipyvolume/serialize.py:29: RuntimeWarning: invalid value encountered in true_divide\n",
      "  gradient = gradient / np.sqrt(gradient[0]**2 + gradient[1]**2 + gradient[2]**2)\n"
     ]
    },
    {
     "data": {
      "application/vnd.jupyter.widget-view+json": {
       "model_id": "21dd1a23f34747759c80cec5a4186b14"
      }
     },
     "metadata": {},
     "output_type": "display_data"
    }
   ],
   "source": [
    "import ipyvolume\n",
    "import ipyvolume.pylab as p3\n",
    "import h5py\n",
    "import numpy as np\n",
    "\n",
    "# define some colors\n",
    "blue= '#66a0ff'\n",
    "orange = '#ffb73d'\n",
    "\n",
    "# pull nuclei from hdf5 file\n",
    "def nucleus(config=0):\n",
    "    with h5py.File('Pb208_10k.hdf', 'r') as f:\n",
    "        for nuclei in f.values():\n",
    "            return nuclei[config]\n",
    "\n",
    "# times\n",
    "times = np.linspace(0, 20, 500)\n",
    "        \n",
    "# nucleus A\n",
    "x, y, _ = nucleus(0).T\n",
    "z = np.zeros_like(x)\n",
    "x1 = np.array([x for t in times])\n",
    "y1 = np.array([y for t in times])\n",
    "z1 = np.array([z - 8 + t for t in times])\n",
    "\n",
    "# nucleus B\n",
    "x, y, _ = nucleus(2).T\n",
    "z = np.zeros_like(x)\n",
    "x2 = np.array([x for t in times])\n",
    "y2 = np.array([y for t in times])\n",
    "z2 = np.array([z + 8 - t for t in times])\n",
    "\n",
    "# cylinder\n",
    "m = 100\n",
    "l = np.linspace(-10, 10, m)\n",
    "X, Y, Z = np.meshgrid(l, l, l)\n",
    "R = np.sqrt(X**2 + Z**2)\n",
    "space = np.zeros((m, m, m))\n",
    "space[R < 1.0] = 1.0\n",
    "\n",
    "p3.figure()\n",
    "\n",
    "p3.volshow(space, level=[1], opacity=0.2, level_width=0.1,\n",
    "           data_min=0, data_max=1.1, lighting=False)\n",
    "p3.scatter(x1, y1, z1, marker=\"sphere\", size=4, color=orange)\n",
    "p3.scatter(x2, y2, z2, marker=\"sphere\", size=4, color=blue)\n",
    "\n",
    "p3.xyzlim(-10,10)\n",
    "#p3.animate_glyphs(n1, interval=2)\n",
    "#p3.style.use([{'background-color' : 'white'}])\n",
    "p3.show()\n",
    "\n",
    "\n"
   ]
  },
  {
   "cell_type": "code",
   "execution_count": null,
   "metadata": {
    "collapsed": true
   },
   "outputs": [],
   "source": []
  },
  {
   "cell_type": "code",
   "execution_count": null,
   "metadata": {
    "collapsed": true
   },
   "outputs": [],
   "source": []
  },
  {
   "cell_type": "code",
   "execution_count": null,
   "metadata": {
    "collapsed": true
   },
   "outputs": [],
   "source": []
  }
 ],
 "metadata": {
  "kernelspec": {
   "display_name": "Python 3",
   "language": "python",
   "name": "python3"
  },
  "language_info": {
   "codemirror_mode": {
    "name": "ipython",
    "version": 3
   },
   "file_extension": ".py",
   "mimetype": "text/x-python",
   "name": "python",
   "nbconvert_exporter": "python",
   "pygments_lexer": "ipython3",
   "version": "3.5.3"
  }
 },
 "nbformat": 4,
 "nbformat_minor": 2
}
